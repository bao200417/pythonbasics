{
  "nbformat": 4,
  "nbformat_minor": 0,
  "metadata": {
    "colab": {
      "provenance": [],
      "authorship_tag": "ABX9TyP64o1x3H+UlKYnLZCkDNuj",
      "include_colab_link": true
    },
    "kernelspec": {
      "name": "python3",
      "display_name": "Python 3"
    },
    "language_info": {
      "name": "python"
    }
  },
  "cells": [
    {
      "cell_type": "markdown",
      "metadata": {
        "id": "view-in-github",
        "colab_type": "text"
      },
      "source": [
        "<a href=\"https://colab.research.google.com/github/bao200417/pythonbasics/blob/master/B%E1%BA%A3o_AIDS_K3.ipynb\" target=\"_parent\"><img src=\"https://colab.research.google.com/assets/colab-badge.svg\" alt=\"Open In Colab\"/></a>"
      ]
    },
    {
      "cell_type": "markdown",
      "source": [
        "#1.Giải phương trình"
      ],
      "metadata": {
        "id": "xh-9hL9MPWnB"
      }
    },
    {
      "cell_type": "code",
      "execution_count": 1,
      "metadata": {
        "id": "3ijF73JoOq7s"
      },
      "outputs": [],
      "source": [
        "from sympy import *"
      ]
    },
    {
      "cell_type": "code",
      "source": [
        "x= symbols('x')"
      ],
      "metadata": {
        "id": "6Q5OOdCQPUjh"
      },
      "execution_count": 2,
      "outputs": []
    },
    {
      "cell_type": "code",
      "source": [
        "eq = Eq(2*x - 6, 0)"
      ],
      "metadata": {
        "id": "2JKNKbQgPiFg"
      },
      "execution_count": 3,
      "outputs": []
    },
    {
      "cell_type": "code",
      "source": [
        "answer = solve(eq, x)\n",
        "print('Nghiệm: ', answer)"
      ],
      "metadata": {
        "colab": {
          "base_uri": "https://localhost:8080/"
        },
        "id": "PIkvzsynPr33",
        "outputId": "87cae5d1-7eed-4708-d201-07301caae5fb"
      },
      "execution_count": 4,
      "outputs": [
        {
          "output_type": "stream",
          "name": "stdout",
          "text": [
            "Nghiệm:  [3]\n"
          ]
        }
      ]
    },
    {
      "cell_type": "markdown",
      "source": [
        "## Bài tập"
      ],
      "metadata": {
        "id": "qfhKYrF7Pyhf"
      }
    },
    {
      "cell_type": "code",
      "source": [
        "from sympy import *"
      ],
      "metadata": {
        "id": "i_5eJyFOSXfy"
      },
      "execution_count": null,
      "outputs": []
    },
    {
      "cell_type": "code",
      "source": [
        "def bai1():\n",
        "    x = symbols('x')\n",
        "    eq = Eq(-2*x + 5, 0)\n",
        "    answer = solve(eq, x)\n",
        "    print('Nghiệm: ', answer)\n",
        "bai1()"
      ],
      "metadata": {
        "colab": {
          "base_uri": "https://localhost:8080/"
        },
        "id": "DL967tSYP5Mw",
        "outputId": "b807ef24-70e0-4df6-ff8e-d3b9e9fbc6ac"
      },
      "execution_count": 36,
      "outputs": [
        {
          "output_type": "stream",
          "name": "stdout",
          "text": [
            "Nghiệm:  [5/2]\n"
          ]
        }
      ]
    },
    {
      "cell_type": "code",
      "source": [
        "def bai2():\n",
        "    x = symbols('x')\n",
        "    eq = Eq(5*x - 9, 0)\n",
        "    answer = solve(eq, x)\n",
        "    print('Nghiệm: ', answer)\n",
        "bai2()"
      ],
      "metadata": {
        "colab": {
          "base_uri": "https://localhost:8080/"
        },
        "id": "4JZs6SjtQRxP",
        "outputId": "ba0b3dc4-afb9-4bec-cefe-e22dd3a7ed95"
      },
      "execution_count": 29,
      "outputs": [
        {
          "output_type": "stream",
          "name": "stdout",
          "text": [
            "Nghiệm:  320/3\n"
          ]
        }
      ]
    },
    {
      "cell_type": "markdown",
      "source": [
        "#2.Giải hệ phương trình "
      ],
      "metadata": {
        "id": "vTZuo7Z7QaCf"
      }
    },
    {
      "cell_type": "code",
      "source": [
        "from sympy import symbols, Eq, solve\n",
        "def bai3():\n",
        "    x, y = symbols('x y')\n",
        "    eq1 = Eq(2*x + y - 1, 0)\n",
        "    eq2 = Eq(x + y - 5, 0)\n",
        "    answer = solve((eq1, eq2), (x,y))\n",
        "    print(answer)\n",
        "bai3()"
      ],
      "metadata": {
        "colab": {
          "base_uri": "https://localhost:8080/"
        },
        "id": "5VqbzCEXQz6i",
        "outputId": "9fe4348c-6a87-4d94-e404-71fe40ed7710"
      },
      "execution_count": 37,
      "outputs": [
        {
          "output_type": "stream",
          "name": "stdout",
          "text": [
            "{x: -4, y: 9}\n"
          ]
        }
      ]
    },
    {
      "cell_type": "markdown",
      "source": [
        "##Bài tập "
      ],
      "metadata": {
        "id": "AkqN7gbuREpl"
      }
    },
    {
      "cell_type": "code",
      "source": [
        "from sympy import symbols, Eq, solve\n",
        "def bai2():\n",
        "    x, y = symbols('x y')\n",
        "    eq1 = Eq(x - y - 3, 0)\n",
        "    eq2 = Eq(3*x - 4*y - 44, 0)\n",
        "    answer = solve((eq1, eq2), (x,y))\n",
        "    print(answer)\n",
        "bai2()"
      ],
      "metadata": {
        "colab": {
          "base_uri": "https://localhost:8080/"
        },
        "id": "JBthWCRiRI_9",
        "outputId": "404a21a4-6e77-4c8a-a0dc-ca1884ea5fc9"
      },
      "execution_count": 38,
      "outputs": [
        {
          "output_type": "stream",
          "name": "stdout",
          "text": [
            "{x: -32, y: -35}\n"
          ]
        }
      ]
    },
    {
      "cell_type": "code",
      "source": [
        "from sympy import symbols, Eq, solve\n",
        "def bai3():\n",
        "    x, y, z= symbols('x y z')\n",
        "    eq1 = Eq(x - y +2*z - 4, 0)\n",
        "    eq2 = Eq(2*x + y - z +1, 0)\n",
        "    eq3 = Eq(x + y + z, 5)\n",
        "    answer = solve((eq1, eq2, eq3), (x,y,z))\n",
        "    return answer\n",
        "print(answer)"
      ],
      "metadata": {
        "colab": {
          "base_uri": "https://localhost:8080/"
        },
        "id": "YbcjbO8sRUpW",
        "outputId": "c37612b6-0ec0-4d4c-ffd6-cebd5956c863"
      },
      "execution_count": 31,
      "outputs": [
        {
          "output_type": "stream",
          "name": "stdout",
          "text": [
            "320/3\n"
          ]
        }
      ]
    },
    {
      "cell_type": "markdown",
      "source": [
        "#3.1 Tính giới hạn "
      ],
      "metadata": {
        "id": "ip1MWLlbRzrh"
      }
    },
    {
      "cell_type": "code",
      "source": [
        "from sympy import *\n",
        "def bai4():\n",
        "    x = symbols('x')\n",
        "    f = sin(x)/x\n",
        "    answer = limit(f, x, 0)\n",
        "    print('Kết quả giới hạn: ', answer)\n",
        "bai4()"
      ],
      "metadata": {
        "colab": {
          "base_uri": "https://localhost:8080/"
        },
        "id": "iA1dVNO7SMOp",
        "outputId": "25a74538-4ccc-4683-bf59-bdbda2c7d54a"
      },
      "execution_count": 39,
      "outputs": [
        {
          "output_type": "stream",
          "name": "stdout",
          "text": [
            "Kết quả giới hạn:  1\n"
          ]
        }
      ]
    },
    {
      "cell_type": "markdown",
      "source": [
        "##Bài tập"
      ],
      "metadata": {
        "id": "AtzmS0U-SeKQ"
      }
    },
    {
      "cell_type": "code",
      "source": [
        "from sympy import *\n",
        "def bai5():\n",
        "    x = symbols('x')\n",
        "    f=(x-8)/(x-2)\n",
        "    answer = limit(f, x, 2)\n",
        "    print('Kết quả giới hạn: ', answer)\n",
        "bai5()"
      ],
      "metadata": {
        "colab": {
          "base_uri": "https://localhost:8080/"
        },
        "id": "SWbwxmlhSfR0",
        "outputId": "2c2e6912-52eb-4382-eb7a-5672342b7392"
      },
      "execution_count": 40,
      "outputs": [
        {
          "output_type": "stream",
          "name": "stdout",
          "text": [
            "Kết quả giới hạn:  -oo\n"
          ]
        }
      ]
    },
    {
      "cell_type": "code",
      "source": [
        "from sympy import *\n",
        "def bai6():\n",
        "      x = symbols('x')\n",
        "      f=(1-cos(x))/sin(x)\n",
        "      answer = limit(f, x, 0)\n",
        "      print('Kết quả giới hạn: ', answer)\n",
        "bai6()"
      ],
      "metadata": {
        "colab": {
          "base_uri": "https://localhost:8080/"
        },
        "id": "jiNIQAqKSulQ",
        "outputId": "479bfd99-be06-4c0d-a0a2-4328c13a350e"
      },
      "execution_count": 41,
      "outputs": [
        {
          "output_type": "stream",
          "name": "stdout",
          "text": [
            "Kết quả giới hạn:  0\n"
          ]
        }
      ]
    },
    {
      "cell_type": "markdown",
      "source": [
        "#3.2.Tính đạo hàm"
      ],
      "metadata": {
        "id": "mYQgc8-jSWjg"
      }
    },
    {
      "cell_type": "code",
      "source": [
        "from sympy import *\n",
        "x = symbols('x')\n",
        "f = sin(x)\n",
        "answer = diff(f, x)\n",
        "print(answer)"
      ],
      "metadata": {
        "colab": {
          "base_uri": "https://localhost:8080/"
        },
        "id": "8Y6kB1u6TDE4",
        "outputId": "f345cad8-497d-4a1c-ca65-b388c25c39fe"
      },
      "execution_count": 15,
      "outputs": [
        {
          "output_type": "stream",
          "name": "stdout",
          "text": [
            "cos(x)\n"
          ]
        }
      ]
    },
    {
      "cell_type": "markdown",
      "source": [
        "#Bài tập:"
      ],
      "metadata": {
        "id": "fXK5lzISTQRA"
      }
    },
    {
      "cell_type": "code",
      "source": [
        "from sympy import *\n",
        "def bai7():\n",
        "    x = symbols('x')\n",
        "    f = 3*x*x+6*x-8\n",
        "    answer = diff(f, x)\n",
        "    print(answer)\n",
        "bai7()"
      ],
      "metadata": {
        "colab": {
          "base_uri": "https://localhost:8080/"
        },
        "id": "CL65YfH3TSRh",
        "outputId": "f46c2609-d4d0-4967-e835-bd0f9a15c712"
      },
      "execution_count": 43,
      "outputs": [
        {
          "output_type": "stream",
          "name": "stdout",
          "text": [
            "6*x + 6\n"
          ]
        }
      ]
    },
    {
      "cell_type": "code",
      "source": [
        "from sympy import *\n",
        "def bai8():\n",
        "    x = symbols('x')\n",
        "    f = tan(x)\n",
        "    answer = diff(f, x)\n",
        "    print(answer)\n",
        "bai8()"
      ],
      "metadata": {
        "colab": {
          "base_uri": "https://localhost:8080/"
        },
        "id": "t3ofYY2eTm5p",
        "outputId": "a8d3dc8a-4450-4370-cce6-b1f2b14819a9"
      },
      "execution_count": 44,
      "outputs": [
        {
          "output_type": "stream",
          "name": "stdout",
          "text": [
            "tan(x)**2 + 1\n"
          ]
        }
      ]
    },
    {
      "cell_type": "markdown",
      "source": [
        "#4.Tính tích phân"
      ],
      "metadata": {
        "id": "bcLZhcY5TtPi"
      }
    },
    {
      "cell_type": "code",
      "source": [
        "from sympy import *\n",
        "def bai9():\n",
        "    x = symbols('x')\n",
        "    f = cos(x)\n",
        "    answer = integrate(f, x)\n",
        "    print(answer)\n",
        "bai9()"
      ],
      "metadata": {
        "colab": {
          "base_uri": "https://localhost:8080/"
        },
        "id": "yY4qx_jpTwDq",
        "outputId": "e9a65892-bde6-4bd2-ea57-47ae1bc6b9df"
      },
      "execution_count": 42,
      "outputs": [
        {
          "output_type": "stream",
          "name": "stdout",
          "text": [
            "sin(x)\n"
          ]
        }
      ]
    },
    {
      "cell_type": "code",
      "source": [
        "from sympy import *\n",
        "def bai10():\n",
        "    x = symbols('x')\n",
        "    f = exp(-x)\n",
        "    answer = integrate(f, (x,0, oo))\n",
        "    print(answer)\n",
        "bai10()"
      ],
      "metadata": {
        "colab": {
          "base_uri": "https://localhost:8080/"
        },
        "id": "m5A5JhlpT55J",
        "outputId": "d1213142-dce1-405f-8ef6-e9d31c7b512a"
      },
      "execution_count": 46,
      "outputs": [
        {
          "output_type": "stream",
          "name": "stdout",
          "text": [
            "1\n"
          ]
        }
      ]
    },
    {
      "cell_type": "code",
      "source": [
        "from sympy import *\n",
        "def bai11():\n",
        "    x, y = symbols('x y')\n",
        "    f = exp(-x**2-y**2)\n",
        "    answer = integrate(f, (x, -oo, +oo),\n",
        "    (y, -oo, +oo))\n",
        "    print(answer)\n",
        "bai11()"
      ],
      "metadata": {
        "colab": {
          "base_uri": "https://localhost:8080/"
        },
        "id": "GKWQH_ZNURrI",
        "outputId": "7d7fc4e6-5619-41a9-f840-7a78dc9a66f8"
      },
      "execution_count": 45,
      "outputs": [
        {
          "output_type": "stream",
          "name": "stdout",
          "text": [
            "pi\n"
          ]
        }
      ]
    },
    {
      "cell_type": "markdown",
      "source": [
        "##Bài tập"
      ],
      "metadata": {
        "id": "f5xgAGGJUaWo"
      }
    },
    {
      "cell_type": "code",
      "source": [
        "from sympy import *\n",
        "def bai12():\n",
        "    x = symbols('x')\n",
        "    f = sin(2*x)*sin(7*x)\n",
        "    answer = integrate(f, (x,-pi/2,pi/2))\n",
        "    print(answer)\n",
        "bai12()"
      ],
      "metadata": {
        "colab": {
          "base_uri": "https://localhost:8080/"
        },
        "id": "TV9ycmKIUbr5",
        "outputId": "1f87c889-981f-411b-c98c-9bf488ef36e3"
      },
      "execution_count": 47,
      "outputs": [
        {
          "output_type": "stream",
          "name": "stdout",
          "text": [
            "4/45\n"
          ]
        }
      ]
    },
    {
      "cell_type": "code",
      "source": [
        "from sympy import *\n",
        "def bai13():\n",
        "    x, y = symbols('x y')\n",
        "    f = (2*sin(x)-3*y*y*y+5)\n",
        "    answer = integrate(f, x, y)\n",
        "    print(answer)\n",
        "bai13()"
      ],
      "metadata": {
        "colab": {
          "base_uri": "https://localhost:8080/"
        },
        "id": "-_fLcBKRU_K5",
        "outputId": "d6bf89e6-830d-459f-9ab2-5e624eae7719"
      },
      "execution_count": 48,
      "outputs": [
        {
          "output_type": "stream",
          "name": "stdout",
          "text": [
            "-3*x*y**4/4 + y*(5*x - 2*cos(x))\n"
          ]
        }
      ]
    },
    {
      "cell_type": "code",
      "source": [
        "from sympy import *\n",
        "def bai14():\n",
        "    x, y = symbols('x y')\n",
        "    f = (x*x+y*y)\n",
        "    answer = integrate(f, (x, -2, +2),(y, 0, 4))\n",
        "    print(answer)\n",
        "bai14()"
      ],
      "metadata": {
        "colab": {
          "base_uri": "https://localhost:8080/"
        },
        "id": "LzaWi7hCVnNh",
        "outputId": "c4ec35cd-55c3-40b0-94e9-f66128d754bc"
      },
      "execution_count": 49,
      "outputs": [
        {
          "output_type": "stream",
          "name": "stdout",
          "text": [
            "320/3\n"
          ]
        }
      ]
    }
  ]
}