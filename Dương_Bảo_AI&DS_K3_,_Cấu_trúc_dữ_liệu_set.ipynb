{
  "nbformat": 4,
  "nbformat_minor": 0,
  "metadata": {
    "colab": {
      "provenance": [],
      "authorship_tag": "ABX9TyP+RYRLBZqlUNfbQh3gyX3z",
      "include_colab_link": true
    },
    "kernelspec": {
      "name": "python3",
      "display_name": "Python 3"
    },
    "language_info": {
      "name": "python"
    }
  },
  "cells": [
    {
      "cell_type": "markdown",
      "metadata": {
        "id": "view-in-github",
        "colab_type": "text"
      },
      "source": [
        "<a href=\"https://colab.research.google.com/github/bao200417/pythonbasics/blob/master/D%C6%B0%C6%A1ng_B%E1%BA%A3o_AI%26DS_K3_%2C_C%E1%BA%A5u_tr%C3%BAc_d%E1%BB%AF_li%E1%BB%87u_set.ipynb\" target=\"_parent\"><img src=\"https://colab.research.google.com/assets/colab-badge.svg\" alt=\"Open In Colab\"/></a>"
      ]
    },
    {
      "cell_type": "code",
      "execution_count": 8,
      "metadata": {
        "colab": {
          "base_uri": "https://localhost:8080/"
        },
        "id": "qReZ9dhhm5vp",
        "outputId": "532e09d7-52c0-4efb-9a76-26b076216800"
      },
      "outputs": [
        {
          "output_type": "stream",
          "name": "stdout",
          "text": [
            "{'Tiếng Anh chuyên ngành', 'Thể dục', 'NNLT Python', 'Đại số tuyến tính'}\n",
            "{'Học Máy', 'Đại số tuyến tính', 'Computer vision', 'Recommender Systems', 'NNLT Python', 'Học sâu', 'Tối ưu hóa', 'Natural Language Processing'}\n",
            "{'Học Máy', 'Đại số tuyến tính', 'Computer vision', 'Thể dục', 'NNLT Python', 'Recommender Systems', 'Học sâu', 'Tối ưu hóa', 'Natural Language Processing', 'Tiếng Anh chuyên ngành'}\n",
            "{'NNLT Python', 'Đại số tuyến tính'}\n",
            "{'Thể dục', 'Tiếng Anh chuyên ngành'}\n",
            "{'Học Máy', 'Computer vision', 'Recommender Systems', 'Học sâu', 'Tối ưu hóa', 'Natural Language Processing'}\n",
            "{1, 2, 3, 4, 5, 6, 7}\n"
          ]
        }
      ],
      "source": [
        "#1.Tạo tập A = {‘NNLT Python’, ‘Đại số tuyến tính’, ‘Tiếng Anh chuyên ngành’, ‘Thể dục’} và tập B = {‘NNLT Python’, ‘Đại số tuyến tính’, ‘Tối ưu hóa’, ‘Học Máy’, ‘Học sâu’, ‘Computer vision’, ‘Natural Language Processing’, ‘Recommender Systems’}\n",
        "A = {'NNLT Python', 'Đại số tuyến tính', 'Tiếng Anh chuyên ngành', 'Thể dục'}\n",
        "B = {'NNLT Python', 'Đại số tuyến tính', 'Tối ưu hóa', 'Học Máy', 'Học sâu', 'Computer vision', 'Natural Language Processing', 'Recommender Systems'}\n",
        "#2.Hãy in tập A và tập B ra màn hình\n",
        "print(A)\n",
        "print(B)\n",
        "#3.Thực hiện phép A ∪ B và in kết quả là màn hình\n",
        "C= A.union(B)\n",
        "print(C)\n",
        "#4.Thực hiện phép A ∩ B và in kết quả là màn hình\n",
        "D=A.intersection(B)\n",
        "print(D)\n",
        "#5.Thực hiện phép A ∖ B và B ∖ A và in kết quả là màn hình\n",
        "E=A.difference(B)\n",
        "F=B.difference(A)\n",
        "print(E)\n",
        "print(F)\\\n",
        "#6.Cho cấu trúc list sau: x = [1, 1, 1, 2, 2, 3, 3 ,3, 4 ,5 ,6, 7]. Hãy in x ra màn hình. Sau đó chuyển x thành cấu trúc kiểu set và in kết quả ra màn hình\n",
        "x=[1,1,1,2,2,3,3,3,4,5,6,7]\n",
        "x=set(x)\n",
        "print(x)\n",
        "\n",
        "\n",
        "\n",
        "\n",
        "\n",
        "\n"
      ]
    }
  ]
}