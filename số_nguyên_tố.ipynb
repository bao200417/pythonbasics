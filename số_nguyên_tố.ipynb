{
  "nbformat": 4,
  "nbformat_minor": 0,
  "metadata": {
    "colab": {
      "provenance": [],
      "collapsed_sections": [],
      "authorship_tag": "ABX9TyPRuFPdtPnjfoDsO0V2VObH",
      "include_colab_link": true
    },
    "kernelspec": {
      "name": "python3",
      "display_name": "Python 3"
    },
    "language_info": {
      "name": "python"
    }
  },
  "cells": [
    {
      "cell_type": "markdown",
      "metadata": {
        "id": "view-in-github",
        "colab_type": "text"
      },
      "source": [
        "<a href=\"https://colab.research.google.com/github/bao200417/pythonbasics/blob/master/s%E1%BB%91_nguy%C3%AAn_t%E1%BB%91.ipynb\" target=\"_parent\"><img src=\"https://colab.research.google.com/assets/colab-badge.svg\" alt=\"Open In Colab\"/></a>"
      ]
    },
    {
      "cell_type": "code",
      "execution_count": 21,
      "metadata": {
        "colab": {
          "base_uri": "https://localhost:8080/"
        },
        "id": "HW46LGjuatht",
        "outputId": "89ff6696-d9b5-4419-c966-91133f3170f1"
      },
      "outputs": [
        {
          "output_type": "stream",
          "name": "stdout",
          "text": [
            "Nhập số nguyên a=12\n",
            "Các số nguyên tố nằm trong khoảng [ 0 ; 12 ] là:\n",
            "[2, 3, 5, 7, 11]\n"
          ]
        }
      ],
      "source": [
        "import math\n",
        "k=int(input('Nhập số nguyên a= '))\n",
        "def isbevis(n):\n",
        "    if (n < 2):\n",
        "        return False;\n",
        "    squareRoot = int(math.sqrt(n))\n",
        "    for i in range(2, squareRoot + 1):\n",
        "        if (n % i == 0):\n",
        "            return False\n",
        "    return True;\n",
        "ihatepython = []\n",
        "print(\"Các số nguyên tố nằm trong khoảng [ 0 ;\",k,\"] là:\")\n",
        "for i in range(0, k+1):\n",
        "    if (isbevis(i)):\n",
        "        ihatepython.append(i)\n",
        "print(ihatepython)"
      ]
    }
  ]
}