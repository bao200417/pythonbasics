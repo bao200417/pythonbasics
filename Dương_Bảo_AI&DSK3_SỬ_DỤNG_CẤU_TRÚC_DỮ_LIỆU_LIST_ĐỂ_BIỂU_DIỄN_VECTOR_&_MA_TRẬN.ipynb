{
  "nbformat": 4,
  "nbformat_minor": 0,
  "metadata": {
    "colab": {
      "provenance": [],
      "collapsed_sections": [],
      "authorship_tag": "ABX9TyNTWXVFD6bRe4ZE82NBMs3W",
      "include_colab_link": true
    },
    "kernelspec": {
      "name": "python3",
      "display_name": "Python 3"
    },
    "language_info": {
      "name": "python"
    }
  },
  "cells": [
    {
      "cell_type": "markdown",
      "metadata": {
        "id": "view-in-github",
        "colab_type": "text"
      },
      "source": [
        "<a href=\"https://colab.research.google.com/github/bao200417/pythonbasics/blob/master/D%C6%B0%C6%A1ng_B%E1%BA%A3o_AI%26DSK3_S%E1%BB%AC_D%E1%BB%A4NG_C%E1%BA%A4U_TR%C3%9AC_D%E1%BB%AE_LI%E1%BB%86U_LIST_%C4%90%E1%BB%82_BI%E1%BB%82U_DI%E1%BB%84N_VECTOR_%26_MA_TR%E1%BA%ACN.ipynb\" target=\"_parent\"><img src=\"https://colab.research.google.com/assets/colab-badge.svg\" alt=\"Open In Colab\"/></a>"
      ]
    },
    {
      "cell_type": "markdown",
      "source": [
        "#Bài 1:Một vector x ∈ R^n (hay còn gọi là 1 tensor hạng 1) được diễn đạt dưới dạng x =[x0; x1; ... ; xn−1]. Hãy viết chương trình nhập dữ liệu cho 1 vector x ∈ R7 từ bàn phím."
      ],
      "metadata": {
        "id": "E7hP8IfKV6-A"
      }
    },
    {
      "cell_type": "code",
      "execution_count": null,
      "metadata": {
        "colab": {
          "base_uri": "https://localhost:8080/"
        },
        "id": "TfOExChhwLoG",
        "outputId": "fdb92c72-fe2b-4ef1-e791-944a4125712b"
      },
      "outputs": [
        {
          "output_type": "stream",
          "name": "stdout",
          "text": [
            "Mời nhập các phần tử của vecto:\n",
            "3\n",
            "4\n",
            "2\n",
            "12\n",
            "5\n",
            "7\n",
            "2\n",
            "Toạ độ vecto: x= [3, 4, 2, 12, 5, 7, 2]\n"
          ]
        }
      ],
      "source": [
        "a=[]\n",
        "i=1\n",
        "print('Mời nhập các phần tử của vecto:')\n",
        "for i in range(7):\n",
        "    x=int(input())\n",
        "    a.append(x)\n",
        "    i=i+1\n",
        "print('Toạ độ vecto: x=',a)\n"
      ]
    },
    {
      "cell_type": "markdown",
      "source": [
        "#Bài 2: Thay vì phải nhập dữ liệu bằng tay, chúng ta có thể sinh ngẫu nhiên giá trị cho từng phần tử xi bằng cách sử dụng thư viện random. Hãy viết chương trình sinh giá trị ngẫu nhiên cho vector x ∈ R 30 với xi ∈ N và xi ∈ [−10, 10]. Tham khảo hàm sinh ngẫu nhiên số nguyên. In kết quả ra màn hình."
      ],
      "metadata": {
        "id": "-wzw-c3OWa9_"
      }
    },
    {
      "cell_type": "code",
      "source": [
        "import random\n",
        "i=1\n",
        "a=[]\n",
        "n=30\n",
        "for i in range(n):\n",
        "  x=random.randrange(-10, 10)\n",
        "  a.append(x)\n",
        "  i=i+1\n",
        "print('Toạ độ véc tơ x=',a)"
      ],
      "metadata": {
        "colab": {
          "base_uri": "https://localhost:8080/"
        },
        "id": "OuDYKEMpWwW3",
        "outputId": "381d8cbf-0726-4626-fc8f-1cc73992c565"
      },
      "execution_count": null,
      "outputs": [
        {
          "output_type": "stream",
          "name": "stdout",
          "text": [
            "Toạ độ véc tơ x= [-3, 0, 2, -9, 2, -5, 5, -1, 0, -5, 1, -5, 6, 6, 0, -2, -7, 3, -7, 9, 9, 2, 7, -5, 0, 1, 9, -9, -10, -8]\n"
          ]
        }
      ]
    },
    {
      "cell_type": "markdown",
      "source": [
        "#Bài 3: Tương tự bài 2, hãy viết chương trình sinh ngẫu nhiên giá trị cho vector x ∈ R30 với xi ∈ [−5.7, 6.9] và in kết quả ra màn hình. Tham khảo hàm sinh ngẫu nhiên số thực."
      ],
      "metadata": {
        "id": "GcSrjEmonQvO"
      }
    },
    {
      "cell_type": "code",
      "source": [
        "import random\n",
        "i=1\n",
        "a=[]\n",
        "n=30\n",
        "for i in range(n):\n",
        "  x=random.uniform(-5.7,6.9)\n",
        "  a.append(x)\n",
        "  i=i+1\n",
        "print('Toạ độ véc tơ x=',a)"
      ],
      "metadata": {
        "colab": {
          "base_uri": "https://localhost:8080/"
        },
        "id": "MEF2YR4snWkP",
        "outputId": "807d8b79-4316-4745-dc8f-3da9c1190333"
      },
      "execution_count": null,
      "outputs": [
        {
          "output_type": "stream",
          "name": "stdout",
          "text": [
            "Toạ độ véc tơ x= [5.204477064446979, 4.379737670258115, 0.9725796659243127, -2.68950286000645, -2.6372203040553144, 3.0096899263676127, 0.12527076912701052, -1.4205619037956048, 6.66396473527305, 5.126323093370519, -4.006636335097063, 5.935687789970236, 0.4174493481712247, -4.345606898349605, -2.935942487969645, 3.288404009209482, -1.4353430875878024, 1.1431401523868985, 6.876307359092842, -4.865356857669644, 3.1965507259157393, 0.5798438391481833, 6.435457485393285, -5.2344922961278595, -1.2377894735758943, 2.239621304003891, -2.959129122468142, 0.18964699315099054, 0.8976197627692324, -0.7869216382975024]\n"
          ]
        }
      ]
    },
    {
      "cell_type": "markdown",
      "source": [
        "#Bài 4:Phép nhân 1 đại lượng vô hướng α với 1 vector x được định nghĩa là:α ∙ x = α[x0; x1; ... ; xn−1] = [αx0; αx1; ... ; αxn−1].Hãy viết chương trình thực hiện phép nhân này với số thực α nhập từ bàn phím, x ∈ R10 được sinh ngẫu nhiên. Kết quả xuất ra màn hình."
      ],
      "metadata": {
        "id": "sUSL-6FpnpCv"
      }
    },
    {
      "cell_type": "code",
      "source": [
        "a=float(input('Nhập a= '))\n",
        "import random\n",
        "i=1\n",
        "j=1\n",
        "x=[]\n",
        "for i in range(10):\n",
        "  b=random.uniform(-10,10)\n",
        "  x.append(b)\n",
        "  i=i+1\n",
        "print('a=',a)\n",
        "print('x=',x)\n",
        "for j in range(0,10,1):\n",
        "  x[j]=x[j]*a\n",
        "print('a*x= ',x)"
      ],
      "metadata": {
        "colab": {
          "base_uri": "https://localhost:8080/"
        },
        "id": "4MrGRg_zn-tN",
        "outputId": "8bafaf68-2ac1-473c-f9e4-881a4abd1f78"
      },
      "execution_count": null,
      "outputs": [
        {
          "output_type": "stream",
          "name": "stdout",
          "text": [
            "Nhập a= -4.5\n",
            "a= -4.5\n",
            "x= [3.9483906126988106, 4.693741168294041, -0.3245997620596164, 6.936890577555701, 9.956128436858851, 9.637118488175261, -1.150449955992375, -8.123716543943347, -1.0045001558037292, 8.093039805396963]\n",
            "a*x=  [-17.767757757144647, -21.121835257323184, 1.4606989292682737, -31.216007599000655, -44.80257796586483, -43.367033196788675, 5.177024801965688, 36.55672444774506, 4.520250701116781, -36.41867912428633]\n"
          ]
        }
      ]
    },
    {
      "cell_type": "markdown",
      "source": [
        "#Bài 5: Phép cộng của 2 vector x, y ∈ Rn được định nghĩa là x + y = [x0 + yo;x1 + y1; ... ; xn−1 + yn−1].Hãy viết chương trình thực hiện phép cộng và phép trừ 2 vector x, y ∈ R15. In kết quả ra màn hình."
      ],
      "metadata": {
        "id": "7Zn37f61nxb-"
      }
    },
    {
      "cell_type": "code",
      "source": [
        "import random, numpy as np\n",
        "i=1\n",
        "j=1\n",
        "x=[]\n",
        "y=[]\n",
        "print('Mời nhập toạ độ vecto x:')\n",
        "for i in range(15):\n",
        "  b=random.uniform(-10,10)\n",
        "  x.append(b)\n",
        "  i=i+1\n",
        "for j in range(15):\n",
        "  c=random.uniform(-10,10)\n",
        "  y.append(c)\n",
        "  j=j+1\n",
        "print('Véc tơ x: x =',x)\n",
        "print('Véc tơ y: y =',y)\n",
        "A=np.array(x)\n",
        "B=np.array(y)\n",
        "print('x + y =',A+B)\n",
        "print('x - y =',A-B)"
      ],
      "metadata": {
        "colab": {
          "base_uri": "https://localhost:8080/"
        },
        "id": "qOQi3tRo17-Q",
        "outputId": "b9cb3a1c-aba6-4af1-a5d0-435a8538368a"
      },
      "execution_count": null,
      "outputs": [
        {
          "output_type": "stream",
          "name": "stdout",
          "text": [
            "Mời nhập toạ độ vecto x:\n",
            "Véc tơ x: x = [5.681406036025859, 4.132394670223231, -7.759159904094963, 9.239619792150418, -9.880224023164574, 5.508907336613575, -0.7687217116268545, 2.6457506889951574, -3.725175644520558, -9.171621376806726, -1.56617389009757, 5.930676441581612, -3.535162584184639, 7.412057144230037, -3.6405415633298706]\n",
            "Véc tơ y: y = [2.777136372335452, -0.15912193096230354, -3.2537439947712983, -0.453901909283962, 3.261182486334226, 3.8386915137913302, 3.615030721644345, -2.873998869411971, 4.68794087544439, -4.829873251598853, -9.007629197546052, 8.333559462497089, 5.387853140508943, 3.1399678224336274, -4.5023885500549365]\n",
            "x + y = [  8.45854241   3.97327274 -11.0129039    8.78571788  -6.61904154\n",
            "   9.34759885   2.84630901  -0.22824818   0.96276523 -14.00149463\n",
            " -10.57380309  14.2642359    1.85269056  10.55202497  -8.14293011]\n",
            "x - y = [  2.90426966   4.2915166   -4.50541591   9.6935217  -13.14140651\n",
            "   1.67021582  -4.38375243   5.51974956  -8.41311652  -4.34174813\n",
            "   7.44145531  -2.40288302  -8.92301572   4.27208932   0.86184699]\n"
          ]
        }
      ]
    },
    {
      "cell_type": "markdown",
      "source": [
        "#Bài 6:Phép nhân elementwise multiplication của 2 vector x, y ∈ Rn được định nghĩa là:x°y = [x0; x1; ... ; xn−1] ∙ [y0; y1; ... ; yn−1] = [x0. y0; x1. y1; ... ; xn−1. yn−1].Hãy viết chương trình thực hiện sinh ngẫu nhiên 2 vector x, y ∈ R10 và thực hiện phép nhân elementwise multiplication x°y và in kết quả ra màn hình."
      ],
      "metadata": {
        "id": "LjVOTMAiyHfq"
      }
    },
    {
      "cell_type": "code",
      "source": [
        "import random, numpy as np\n",
        "i=1\n",
        "j=1\n",
        "x=[]\n",
        "y=[]\n",
        "print('Mời nhập toạ độ vecto x:')\n",
        "for i in range(10):\n",
        "  b=random.uniform(-10,10)\n",
        "  x.append(b)\n",
        "  i=i+1\n",
        "for j in range(10):\n",
        "  c=random.uniform(-10,10)\n",
        "  y.append(c)\n",
        "  j=j+1\n",
        "print('Véc tơ x: x =',x)\n",
        "print('Véc tơ y: y =',y)\n",
        "A=np.array(x)\n",
        "B=np.array(y)\n",
        "print('x x y =',A*B)"
      ],
      "metadata": {
        "colab": {
          "base_uri": "https://localhost:8080/"
        },
        "id": "gtzw8fHVyfIi",
        "outputId": "61dc4081-114b-4ec7-e03e-5403c63d0fd6"
      },
      "execution_count": null,
      "outputs": [
        {
          "output_type": "stream",
          "name": "stdout",
          "text": [
            "Mời nhập toạ độ vecto x:\n",
            "Véc tơ x: x = [-7.6009582010564225, 1.2623624235236885, 2.664690572222879, -6.089426880924329, 2.6653375184257104, -2.8888870750513718, 2.232757542394605, 4.208651496305407, -0.5973796928330515, 0.12481228980338166]\n",
            "Véc tơ y: y = [-0.060935512892193344, 9.60314486635221, -2.549638146789741, -6.7097567448565965, 4.771007016676405, 9.703078826289044, -5.392590318607673, -5.915536923551721, 0.9072348132322716, -5.2880338833671185]\n",
            "x x y = [  0.46316829  12.12264923  -6.79399673  40.85857309  12.716344\n",
            " -28.03109901 -12.04034671 -24.89643332  -0.54196365  -0.66001162]\n"
          ]
        }
      ]
    },
    {
      "cell_type": "markdown",
      "source": [
        "#Bài 7:Tích vô hướng của 2 vector x, y ∈ Rn được định nghĩa là : x.y=x0. y0 + x1. y1 + xn−1. yn−1.Hãy viết chương trình thực hiện tính tích vô hướng 2 vector x, y ∈ R10 và in kết quả ra màn hình."
      ],
      "metadata": {
        "id": "clFECLn8y1ko"
      }
    },
    {
      "cell_type": "code",
      "source": [
        "import random, numpy as np\n",
        "i=1\n",
        "j=1\n",
        "k=0\n",
        "x=[]\n",
        "y=[]\n",
        "C=0\n",
        "D=0\n",
        "print('Mời nhập toạ độ vecto x:')\n",
        "for i in range(10):\n",
        "  b=random.uniform(-10,10)\n",
        "  x.append(b)\n",
        "  i=i+1\n",
        "for j in range(10):\n",
        "  c=random.uniform(-10,10)\n",
        "  y.append(c)\n",
        "  j=j+1\n",
        "print('Véc tơ x: x =',x)\n",
        "print('Véc tơ y: y =',y)\n",
        "A=np.array(x)\n",
        "B=np.array(y)\n",
        "for j in range(10):\n",
        "  C=x[k]*y[k]\n",
        "  D=D+C\n",
        "print('Tích vô hướng của hai vecto x và y:',D)"
      ],
      "metadata": {
        "colab": {
          "base_uri": "https://localhost:8080/"
        },
        "id": "4U844huvzLpg",
        "outputId": "bec6fc83-c3cc-4cbd-e01d-b8e55f331ec9"
      },
      "execution_count": null,
      "outputs": [
        {
          "output_type": "stream",
          "name": "stdout",
          "text": [
            "Mời nhập toạ độ vecto x:\n",
            "Véc tơ x: x = [0.5741439916741786, 1.9491619529128243, 6.0906366608360045, 9.52420340718664, -6.639462491538235, -4.12606300774166, -4.111818131392364, 6.61308686157351, -4.581486071110577, -9.756347517865844]\n",
            "Véc tơ y: y = [-3.780190832306552, -8.720945200230812, -1.094525188465692, 1.6783330736041115, -6.319827553393371, -2.392475010227213, -1.8068286193987344, -5.618706563492433, 7.587325142619125, 1.367916921997823]\n",
            "Tích vô hướng của hai vecto x và y: -21.703738537506187\n"
          ]
        }
      ]
    },
    {
      "cell_type": "markdown",
      "source": [
        "#Bài 8:Viết chương trình sinh ngẫu nhiên ma trận A ∈ R3×5. In ma trận A ra màn hình và in phần tử a23 ra màn hình."
      ],
      "metadata": {
        "id": "KVmp5sMd0Ozp"
      }
    },
    {
      "cell_type": "code",
      "source": [
        "import random, numpy as np\n",
        "print('Ma trận A ngẫu nhiên có dạng:')\n",
        "A=np.random.normal(-100,100,(3,5))\n",
        "print(A)\n",
        "print('a23=',A[1,2])"
      ],
      "metadata": {
        "colab": {
          "base_uri": "https://localhost:8080/"
        },
        "id": "V7OekUvy0ziu",
        "outputId": "a5981c23-9fd1-4eb4-bd5f-ae00990e13ca"
      },
      "execution_count": null,
      "outputs": [
        {
          "output_type": "stream",
          "name": "stdout",
          "text": [
            "Ma trận A ngẫu nhiên có dạng:\n",
            "[[ -23.14788369  -57.58473903 -182.0702184  -113.78372583 -187.02891405]\n",
            " [ -32.58931345 -128.0821916  -120.91227286 -134.61614113 -117.43821146]\n",
            " [ -17.97794741  -98.53706574 -180.26345469   11.0214847  -136.21999328]]\n",
            "a23= -120.91227286082315\n"
          ]
        }
      ]
    },
    {
      "cell_type": "markdown",
      "source": [
        "#Bài 9:Hãy viết chương trình tính tích nêu trên với α là số thực nhập vào từ bàn phím và ma trận A ∈ R(3×5) được sinh ngẫu nhiên. In kết quả ra màn hình."
      ],
      "metadata": {
        "id": "bIf3Pbgd3ywf"
      }
    },
    {
      "cell_type": "code",
      "source": [
        "import random, numpy as np\n",
        "print('Ma trận A ngẫu nhiên có dạng:')\n",
        "A=np.random.normal(-100,100,(3,5))\n",
        "print(A)\n",
        "print('Thực hiện phép toán nhân ma trận với số thực a:')\n",
        "a=float(input('Mời nhập a='))\n",
        "print('Kết quả phép nhân ma trận A vs số thực',a,'=')\n",
        "print(A*a)"
      ],
      "metadata": {
        "colab": {
          "base_uri": "https://localhost:8080/"
        },
        "id": "4svaRKCu4DEB",
        "outputId": "76400849-339f-4ce6-d2fd-9047cab672e5"
      },
      "execution_count": null,
      "outputs": [
        {
          "output_type": "stream",
          "name": "stdout",
          "text": [
            "Ma trận A ngẫu nhiên có dạng:\n",
            "[[-335.57592554  -85.04673159 -260.75826306 -107.75520977   35.7201257 ]\n",
            " [-178.78048615 -123.51580194 -219.11865511  -37.24943193  -57.204612  ]\n",
            " [-138.07996209   -7.30271506 -214.02490303   21.57723825   96.84109868]]\n",
            "Thực hiện phép toán nhân ma trận với số thực a:\n",
            "Mời nhập a=3\n",
            "Kết quả phép nhân ma trận A vs số thực 3.0 =\n",
            "[[-1006.72777662  -255.14019477  -782.27478917  -323.26562931\n",
            "    107.16037711]\n",
            " [ -536.34145845  -370.54740583  -657.35596532  -111.74829578\n",
            "   -171.613836  ]\n",
            " [ -414.23988626   -21.90814517  -642.07470909    64.73171475\n",
            "    290.52329605]]\n"
          ]
        }
      ]
    },
    {
      "cell_type": "markdown",
      "source": [
        "#Bài 10:Viết chương trình tính phép cộng 2 ma trận A, B ∈ R(3×5) và in kết quả ra màn hình."
      ],
      "metadata": {
        "id": "HYIRl7C45B98"
      }
    },
    {
      "cell_type": "code",
      "source": [
        "import random, numpy as np\n",
        "print('Ma trận A ngẫu nhiên có dạng:')\n",
        "A=np.random.normal(-100,100,(3,5))\n",
        "print(A)\n",
        "print('Ma trận B ngẫu nhiên có dạng:')\n",
        "B=np.random.normal(-100,100,(3,5))\n",
        "print(B)\n",
        "print('A + B = \\n',A+B)\n",
        "print('A - B = \\n',A-B)\n"
      ],
      "metadata": {
        "colab": {
          "base_uri": "https://localhost:8080/"
        },
        "id": "PvtYyX-Z5K--",
        "outputId": "89e390d8-d43a-4286-f4f6-d35f233d181b"
      },
      "execution_count": null,
      "outputs": [
        {
          "output_type": "stream",
          "name": "stdout",
          "text": [
            "Ma trận A ngẫu nhiên có dạng:\n",
            "[[  86.4007564  -274.74373177  -24.30421177 -229.74585049  106.15274285]\n",
            " [  32.24216429   37.70655876 -126.34106579   31.15173465 -143.19056534]\n",
            " [ -85.35551397 -198.46196221 -145.31142098  -48.41661292  -55.34415872]]\n",
            "Ma trận B ngẫu nhiên có dạng:\n",
            "[[-293.39487015   -6.30423479  -61.60951401 -235.98751278  -80.21384303]\n",
            " [ -54.63316016  -64.01885525 -157.80815955   22.50733711 -107.29399787]\n",
            " [ -84.93857876 -186.28370682 -135.16745769 -160.10076103 -292.97616038]]\n",
            "A + B = \n",
            " [[-206.99411376 -281.04796656  -85.91372578 -465.73336326   25.93889982]\n",
            " [ -22.39099587  -26.31229649 -284.14922534   53.65907176 -250.4845632 ]\n",
            " [-170.29409273 -384.74566903 -280.47887867 -208.51737395 -348.3203191 ]]\n",
            "A - B = \n",
            " [[ 379.79562655 -268.43949698   37.30530225    6.24166229  186.36658588]\n",
            " [  86.87532445  101.72541402   31.46709376    8.64439754  -35.89656747]\n",
            " [  -0.41693521  -12.17825539  -10.14396329  111.68414811  237.63200166]]\n"
          ]
        }
      ]
    },
    {
      "cell_type": "markdown",
      "source": [
        "#Bài 11:Hãy viết chương trình tính tích 2 ma trận A ∈ R(3×4) và B ∈ R(4×5), in kết quả ra màn hình."
      ],
      "metadata": {
        "id": "0Z7Bbztx6M9n"
      }
    },
    {
      "cell_type": "code",
      "source": [
        "import random, numpy as np\n",
        "print('Ma trận A ngẫu nhiên có dạng:')\n",
        "A=np.random.normal(-100,100,(3,4))\n",
        "print(A)\n",
        "print('Ma trận B ngẫu nhiên có dạng:')\n",
        "B=np.random.normal(-100,100,(4,5))\n",
        "print(B)\n",
        "print('Ma trận AxB là ma trận 3x5 có dạng:')\n",
        "print(A@B)"
      ],
      "metadata": {
        "colab": {
          "base_uri": "https://localhost:8080/"
        },
        "id": "VIwVKac76gfr",
        "outputId": "a1ba3f0c-265e-4373-d29b-14112aba5614"
      },
      "execution_count": null,
      "outputs": [
        {
          "output_type": "stream",
          "name": "stdout",
          "text": [
            "Ma trận A ngẫu nhiên có dạng:\n",
            "[[-116.4260766   -55.44492279 -181.4402134  -127.60534436]\n",
            " [  90.64475671 -143.33733155   35.58171926  -96.27191115]\n",
            " [-214.18816272   -1.09931162 -182.27559736 -101.18894863]]\n",
            "Ma trận B ngẫu nhiên có dạng:\n",
            "[[-175.42565288  -74.1341617    -7.64106605    3.43671049 -205.93552609]\n",
            " [   5.00699337  256.05817611  -50.2105314    74.91772695 -188.22053838]\n",
            " [-163.42076665 -226.70176948 -137.88998534 -185.28403562 -118.69930469]\n",
            " [  -8.66821076   59.97557957  -13.69912146  -50.21062844 -262.37366732]]\n",
            "Ma trận AxB là ma trận 3x5 có dạng:\n",
            "[[ 50903.71693157  27913.63673128  30440.40785414  35471.18919131\n",
            "   89429.24789374]\n",
            " [-21599.39131918 -57262.97112232   2916.89887001 -12185.83865962\n",
            "   29347.74310726]\n",
            " [ 68233.33903493  50850.50677565  28212.00206507  38035.05834519\n",
            "   92501.16720941]]\n"
          ]
        }
      ]
    }
  ]
}