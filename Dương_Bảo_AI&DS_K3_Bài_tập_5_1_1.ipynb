{
  "nbformat": 4,
  "nbformat_minor": 0,
  "metadata": {
    "colab": {
      "provenance": [],
      "authorship_tag": "ABX9TyNZ4oqAgrPjDHyCj7rD4qDV",
      "include_colab_link": true
    },
    "kernelspec": {
      "name": "python3",
      "display_name": "Python 3"
    },
    "language_info": {
      "name": "python"
    }
  },
  "cells": [
    {
      "cell_type": "markdown",
      "metadata": {
        "id": "view-in-github",
        "colab_type": "text"
      },
      "source": [
        "<a href=\"https://colab.research.google.com/github/bao200417/pythonbasics/blob/master/D%C6%B0%C6%A1ng_B%E1%BA%A3o_AI%26DS_K3_B%C3%A0i_t%E1%BA%ADp_5_1_1.ipynb\" target=\"_parent\"><img src=\"https://colab.research.google.com/assets/colab-badge.svg\" alt=\"Open In Colab\"/></a>"
      ]
    },
    {
      "cell_type": "markdown",
      "source": [
        "#Câu 1: Sử dụng câu lệnh lặp for thực hiện vòng lặp có chỉ số đi từ 0 đến, tại mỗi bước lặp gán giá trị chỉ số này cho phần tử tương ứng của cấu trúc list. Biết n nguyên dương nhập vào từ bàn phím."
      ],
      "metadata": {
        "id": "BZCzeM0Xgx4_"
      }
    },
    {
      "cell_type": "code",
      "execution_count": 1,
      "metadata": {
        "colab": {
          "base_uri": "https://localhost:8080/"
        },
        "id": "FsbOz23RfieP",
        "outputId": "a1b816e8-4142-4855-8366-59fbc4057f38"
      },
      "outputs": [
        {
          "name": "stdout",
          "output_type": "stream",
          "text": [
            "Nhập n=4\n"
          ]
        }
      ],
      "source": [
        "n=abs(int(input('Nhập n=')))\n",
        "A=[]\n",
        "i=0\n",
        "for i in range(n):\n",
        "   A.append(i)\n",
        "   i+=1"
      ]
    },
    {
      "cell_type": "markdown",
      "source": [
        "#Câu 2: Sử dụng cấu trúc list được tạo ra ở câu 1, hãy thực hiện:\n",
        "# Tính tổng của list bằng kỹ thuật cộng dồn và in kết quả ra màn hình;\n",
        "# Tính tích của list bằng kỹ thuật nhân dồn và in kết quả ra màn hình."
      ],
      "metadata": {
        "id": "QwsvJxarg3wf"
      }
    },
    {
      "cell_type": "code",
      "source": [
        "n=abs(int(input('Nhập n=')))\n",
        "A=[]\n",
        "x=0\n",
        "S=0\n",
        "P=1\n",
        "for i in range(n):\n",
        "   A.append(x)\n",
        "   x+=1\n",
        "   i+=1\n",
        "for j in range(n):\n",
        "   S+=A[j]\n",
        "   P*=A[j]\n",
        "   j=j+1\n",
        "print(S)\n",
        "print(P)"
      ],
      "metadata": {
        "colab": {
          "base_uri": "https://localhost:8080/"
        },
        "id": "Dyhs0yyDhKM-",
        "outputId": "e157a9cd-52d7-45a7-923a-15cfdf70077f"
      },
      "execution_count": null,
      "outputs": [
        {
          "output_type": "stream",
          "name": "stdout",
          "text": [
            "Nhập n=10\n",
            "55\n",
            "3628800\n"
          ]
        }
      ]
    },
    {
      "cell_type": "markdown",
      "source": [
        "#Câu 3:Sử dụng vòng lặp for, hãy thực hiện:\n",
        "#In các giá trị của list ở trên ra màn hình theo chiều từ trái sang phải;\n",
        "#In các giá trị của list ở trên ra màn hình theo chiều từ phải sang trái.\n",
        "#Gợi ý: Để tránh dấu xuống dòng của câu lệnh print(), bạn có thể sử dụng cấu trúc chuỗi để lưu các giá trị tại mỗi bước lặp. Kết thúc vòng lặp, in chuỗi kết quả ra màn hình.\n",
        "\n"
      ],
      "metadata": {
        "id": "kSoRggefjJI-"
      }
    },
    {
      "cell_type": "code",
      "source": [
        "n = abs(int(input('Nhập vào n = ')))\n",
        "x = []\n",
        "for i in range(n):\n",
        "   y = i + 1\n",
        "   x.append(y)\n",
        "print('List theo chiều từ trái sang phải: ',x)\n",
        "m = []\n",
        "for i in range(1,n+1):\n",
        "  n = x[-i]\n",
        "  i = i + 1 \n",
        "  m.append(n) \n",
        "print('List theo chiều từ phải sang trái: ',m)\n",
        "\n"
      ],
      "metadata": {
        "colab": {
          "base_uri": "https://localhost:8080/"
        },
        "id": "uH1xVSSEjSAl",
        "outputId": "480bd468-7aa3-43b8-a527-588aec268b27"
      },
      "execution_count": null,
      "outputs": [
        {
          "output_type": "stream",
          "name": "stdout",
          "text": [
            "Nhập vào n = 5\n",
            "List theo chiều từ trái sang phải:  [1, 2, 3, 4, 5]\n",
            "List theo chiều từ phải sang trái:  [5, 4, 3, 2, 1]\n"
          ]
        }
      ]
    },
    {
      "cell_type": "markdown",
      "source": [
        "#Câu 4: Sử dụng cấu trúc list ở câu 1, hãy thực hiện:\n",
        "# Nhập vào từ bàn phím chỉ số của 2 phần tử khác nhau của list, có kiểm tra tính hợp lệ củachỉ số;\n",
        "# Hoán vị 2 phần tử này;\n",
        "# In list sau khi hoán vị ra màn hình."
      ],
      "metadata": {
        "id": "dMViBFNoOoke"
      }
    },
    {
      "cell_type": "code",
      "source": [
        "#nhập số phần tử của mảng...\n",
        "n=(int(input('Nhập n=')))\n",
        "A=[]\n",
        "i=0\n",
        "for i in range(n):\n",
        "   A.append(i)\n",
        "   i+=1\n",
        "#chỉ số 1...\n",
        "cs1=(int(input('Nhập cs1=')))\n",
        "for j in range(1206):\n",
        "  if cs1 not in A[:-1]:\n",
        "    cs1=(int(input('Nhập lại cs1=')))\n",
        "#chỉ số 2...\n",
        "cs2=(int(input('Nhập cs2=')))\n",
        "for k in range(1702):\n",
        "  if cs2 not in A[:-1] or cs2==cs1:\n",
        "        cs2=int(input('Nhập lại cs2='))\n",
        "#phép hoán vị...\n",
        "P=A[cs1]\n",
        "A[cs1]=A[cs2]\n",
        "A[cs2]=P\n",
        "print(A[cs1])\n",
        "print(A[cs2])\n",
        "#in list sau khi hoán vị ra màn hình...\n",
        "print('List A sạu khi hoán vị: ',A)"
      ],
      "metadata": {
        "colab": {
          "base_uri": "https://localhost:8080/"
        },
        "id": "pkOzjKYjOzTu",
        "outputId": "6bb93599-5858-4b1b-d6ad-991367483197"
      },
      "execution_count": 2,
      "outputs": [
        {
          "output_type": "stream",
          "name": "stdout",
          "text": [
            "Nhập n=5\n",
            "Nhập cs1=2\n",
            "Nhập cs2=3\n",
            "3\n",
            "2\n",
            "List A sạu khi hoán vị:  [0, 1, 3, 2, 4]\n"
          ]
        }
      ]
    },
    {
      "cell_type": "markdown",
      "source": [
        "#Bài 5:Sử dụng cấu trúc list ở câu 4, hãy thực hiện:Nhập vào 1 giá trị nguyên dương x từ bàn phím;\n",
        "#Sử dụng câu lệnh lặp for để tìm kiếm phần tử nào trong list có giá trị bằng với x. Nếu tìm thấy thì in ra màn hình vị trí của phàn tử đó trong list. Nếu không tìm thấy thì thông báo  ‘không tìm thấy’ ra màn hình;\n",
        "#Sử dụng câu lệnh lặp for để tìm ra tất cả những phần tử có giá trị > x trong list và in ra màn hình vị trí và giá trị của các phần tử này;\n",
        "#Sử dụng câu lệnh lặp for để tìm ra tất cả những phần tử có giá trị < x trong list và in ra màn hình vị trí và giá trị của các phần tử này"
      ],
      "metadata": {
        "id": "Thgc3Bybm7zQ"
      }
    },
    {
      "cell_type": "code",
      "source": [
        "#nhập số phần tử của mảng...\n",
        "n=int(input('Nhập n='))\n",
        "A=[]\n",
        "i=1\n",
        "for i in range(n):\n",
        "   A.append(i)\n",
        "   i+=1\n",
        "print(A)\n",
        "print('...........')\n",
        "#chỉ số 1...\n",
        "cs1=(int(input('Nhập cs1=')))\n",
        "for j in range(1206):\n",
        "  if cs1 not in A[:-1]:\n",
        "    cs1=(int(input('Nhập lại cs1=')))\n",
        "#chỉ số 2...\n",
        "cs2=(int(input('Nhập cs2=')))\n",
        "for k in range(1702):\n",
        "  if cs2 not in A[:-1] or cs2==cs1:\n",
        "        cs2=int(input('Nhập lại cs2='))\n",
        "#phép hoán vị...\n",
        "P=A[cs1]\n",
        "A[cs1]=A[cs2]\n",
        "A[cs2]=P\n",
        "print(A[cs1])\n",
        "print(A[cs2])\n",
        "#in list sau khi hoán vị ra màn hình...\n",
        "print('List A sau khi hoán vị: ',A)\n",
        "print('..............')\n",
        "B=[]\n",
        "x=abs(int(input('Nhập phần tử dương n=')))\n",
        "count=0\n",
        "for i in range(0,len(A)):\n",
        "   if A[i]==x:\n",
        "      B.append(i)\n",
        "      count +=1\n",
        "if len(B)>0:\n",
        "   print('Vị trí thứ',x,'trong A là',B[0]+1)\n",
        "else:\n",
        "   print('Không tìm thấy')\n",
        "print('...............')\n",
        "#Sử dụng câu lệnh lặp for để tìm ra tất cả những phần tử có giá trị > x trong list\n",
        "print('Phần tử có giá trị lớn hơn',x,'và vị trí:')\n",
        "for i in range(0,len(A)):\n",
        "   if A[i]>x:\n",
        "      print('--Phần tử',A[i],'nằm ở vị trí thứ',i+1)\n",
        "      i+=1\n",
        "print('................')      \n",
        "#Sử dụng câu lệnh lặp for để tìm ra tất cả những phần tử có giá trị < x trong list\n",
        "print('Phần tử có giá trị bé hơn',x,'và vị trí:')\n",
        "for j in range(0,len(A)):\n",
        "    if A[j]<x:\n",
        "      print('--Phần tử',A[j],'nằm ở vị trí thứ',j+1)\n",
        "      j+=1\n",
        "#end..............................\n",
        "   \n",
        "\n",
        "\n",
        "\n",
        "\n",
        "\n",
        "\n"
      ],
      "metadata": {
        "colab": {
          "base_uri": "https://localhost:8080/"
        },
        "id": "nuhQu9WrnHIn",
        "outputId": "28a0d0bc-6388-4a17-ba92-e1d20f8d8df8"
      },
      "execution_count": 3,
      "outputs": [
        {
          "output_type": "stream",
          "name": "stdout",
          "text": [
            "Nhập n=17\n",
            "[0, 1, 2, 3, 4, 5, 6, 7, 8, 9, 10, 11, 12, 13, 14, 15, 16]\n",
            "...........\n",
            "Nhập cs1=2\n",
            "Nhập cs2=4\n",
            "4\n",
            "2\n",
            "List A sau khi hoán vị:  [0, 1, 4, 3, 2, 5, 6, 7, 8, 9, 10, 11, 12, 13, 14, 15, 16]\n",
            "..............\n",
            "Nhập phần tử dương n=3\n",
            "Vị trí thứ 3 trong A là 4\n",
            "...............\n",
            "Phần tử có giá trị lớn hơn 3 và vị trí:\n",
            "--Phần tử 4 nằm ở vị trí thứ 3\n",
            "--Phần tử 5 nằm ở vị trí thứ 6\n",
            "--Phần tử 6 nằm ở vị trí thứ 7\n",
            "--Phần tử 7 nằm ở vị trí thứ 8\n",
            "--Phần tử 8 nằm ở vị trí thứ 9\n",
            "--Phần tử 9 nằm ở vị trí thứ 10\n",
            "--Phần tử 10 nằm ở vị trí thứ 11\n",
            "--Phần tử 11 nằm ở vị trí thứ 12\n",
            "--Phần tử 12 nằm ở vị trí thứ 13\n",
            "--Phần tử 13 nằm ở vị trí thứ 14\n",
            "--Phần tử 14 nằm ở vị trí thứ 15\n",
            "--Phần tử 15 nằm ở vị trí thứ 16\n",
            "--Phần tử 16 nằm ở vị trí thứ 17\n",
            "................\n",
            "Phần tử có giá trị bé hơn 3 và vị trí:\n",
            "--Phần tử 0 nằm ở vị trí thứ 1\n",
            "--Phần tử 1 nằm ở vị trí thứ 2\n",
            "--Phần tử 2 nằm ở vị trí thứ 5\n"
          ]
        }
      ]
    }
  ]
}